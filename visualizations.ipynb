{
 "cells": [
  {
   "cell_type": "code",
   "execution_count": 2,
   "metadata": {
    "collapsed": true
   },
   "outputs": [],
   "source": [
    "from lxml import etree\n",
    "\n",
    "tree = etree.parse('ov_met_01.xml')\n",
    "root = tree.getroot()"
   ]
  },
  {
   "cell_type": "code",
   "execution_count": 3,
   "metadata": {},
   "outputs": [
    {
     "name": "stdout",
     "output_type": "stream",
     "text": [
      "[<Element said at 0x10ad41848>, <Element said at 0x10d0587c8>, <Element said at 0x10d058808>, <Element said at 0x10d058848>, <Element said at 0x10d058888>, <Element said at 0x10d0588c8>, <Element said at 0x10d058908>, <Element said at 0x10d058948>, <Element said at 0x10d058988>, <Element said at 0x10d0589c8>, <Element said at 0x10d058a08>, <Element said at 0x10d058a48>, <Element said at 0x10d058a88>, <Element said at 0x10d058ac8>, <Element said at 0x10d058b08>, <Element said at 0x10d058b48>, <Element said at 0x10d058b88>, <Element said at 0x10d058bc8>, <Element said at 0x10d058c08>, <Element said at 0x10d058c48>, <Element said at 0x10d058c88>, <Element said at 0x10d058cc8>, <Element said at 0x10d058d08>, <Element said at 0x10d058d48>, <Element said at 0x10d058d88>, <Element said at 0x10d058dc8>, <Element said at 0x10d058e08>, <Element said at 0x10d058e48>, <Element said at 0x10d058e88>, <Element said at 0x10d058ec8>, <Element said at 0x10d058f08>, <Element said at 0x10d058f48>, <Element said at 0x10d058f88>, <Element said at 0x10d058fc8>, <Element said at 0x10d067048>, <Element said at 0x10d067088>, <Element said at 0x10d0670c8>, <Element said at 0x10d067108>, <Element said at 0x10d067148>, <Element said at 0x10d067188>, <Element said at 0x10d0671c8>, <Element said at 0x10d067208>, <Element said at 0x10d067248>, <Element said at 0x10d067288>, <Element said at 0x10d0672c8>, <Element said at 0x10d067308>, <Element said at 0x10d067348>, <Element said at 0x10d067388>, <Element said at 0x10d0673c8>, <Element said at 0x10d067408>, <Element said at 0x10d067448>, <Element said at 0x10d067488>, <Element said at 0x10d0674c8>, <Element said at 0x10d067508>, <Element said at 0x10d067548>]\n"
     ]
    }
   ],
   "source": [
    "print(root.findall('said'))"
   ]
  },
  {
   "cell_type": "code",
   "execution_count": 9,
   "metadata": {},
   "outputs": [
    {
     "name": "stdout",
     "output_type": "stream",
     "text": [
      "Narrator:  scires e sanguine natos.  (urn:cts:latinLit:phi0959.phi006:1.162)\n",
      "\n",
      "Narrator:  Hic locus est, quem, si verbis audacia detur, haud timeam magni dixisse Palatia caeli.  (urn:cts:latinLit:phi0959.phi006:1.175-1.176)\n",
      "\n",
      "Jupiter: \"Non ego pro mundi regno magis anxius illa tempestate fui, qua centum quisque parabat inicere anguipedum captivo bracchia caelo. Nam quamquam ferus hostis erat, tamen illud ab uno corpore et ex una pendebat origine bellum. Nunc mihi, qua totum Nereus circumsonat orbem, perdendum est mortale genus: per flumina iuro infera, sub terras Stygio labentia luco! cuncta prius temptata: sed inmedicabile corpus ense recidendum est, ne pars sincera trahatur. Sunt mihi semidei, sunt rustica numina, nymphae faunique satyrique et monticolae silvani: quos quoniam caeli nondum dignamur honore, quas dedimus certe terras habitare sinamus. An satis, o superi, tutos fore creditis illos, cum mihi, qui fulmen, qui vos habeoque regoque, struxerit insidias notus feritate Lycaon ?\" (urn:cts:latinLit:phi0959.phi006:1.182-1.198)\n",
      "\n",
      "Narrator:  nec tibi grata minus pietas, Auguste, tuorum est, quam fuit illa Iovi.  (urn:cts:latinLit:phi0959.phi006:1.204-1.205)\n",
      "\n",
      "Jupiter: \"Ille quidem poenas, curam hanc dimittite, solvit. Quod tamen admissum, quae sit vindicta, docebo. Contigerat nostras infamia temporis aures ; quam cupiens falsam summo delabor Olympo et deus humana lustro sub imagine terras. Longa mora est, quantum noxae sit ubique repertum, enumerare: minor fuit ipsa infamia vero. Maenala transieram latebris horrenda ferarum et cum Cyllene gelidi pineta Lycaei: Arcadis hinc sedes et inhospita tecta tyranni ingredior, traherent cum sera crepuscula noctem. Signa dedi venisse deum, vulgusque precari coeperat: inridet primo pia vota Lycaon, mox ait Nocte gravem somno necopina perdere morte me parat: haec illi placet experientia veri. nec contentus eo est: missi de gente Molossa obsidis unius iugulum mucrone resolvit, atque ita semineces partim ferventibus artus mollit aquis, partim subiecto torruit igni. Quod simul inposuit mensis, ego vindice flamma in domino dignos everti tecta penates. Territus ipse fugit, nactusque silentia ruris exululat frustraque loqui conatur: ab ipso conligit os rabiem, solitaeque cupidine caedis vertitur in pecudes et nunc quoque sanguine gaudet. In villos abeunt vestes, in crura lacerti: fit lupus et veteris servat vestigia formae. Canities eadem est, eadem violentia vultus, idem oculi lucent, eadem feritatis imago est. Occidit una domus. Sed non domus una perire digna fuit: qua terra patet, fera regnat Erinys. In facinus iurasse putes. Dent ocius omnes quas meruere pati ( sic stat sententia ) poenas.\" (urn:cts:latinLit:phi0959.phi006:1.209-1.243)\n",
      "\n",
      "Neptune: \"non est hortamine longo nunc\" (urn:cts:latinLit:phi0959.phi006:1.277-1.278)\n",
      "\n",
      "Neptune: \"utendum. Vires effundite vestras: sic opus est! aperite domos ac mole remota fluminibus vestris totas inmittite habenas!\" (urn:cts:latinLit:phi0959.phi006:1.278-1.280)\n",
      "\n",
      "Deucalion: \"O soror, o coniunx, o femina sola superstes, quam commune mihi genus et patruelis origo, deinde torus iunxit, nunc ipsa pericula iungunt, terrarum, quascumque vident occasus et ortus, nos duo turba sumus ; possedit cetera pontus. Haec quoque adhuc vitae non est fiducia nostrae certa satis ; terrent etiam nunc nubila mentem. Quis tibi, si sine me fatis erepta fuisses, nunc animus, miseranda, foret ? quo sola timorem ferre modo posses ? quo consolante doleres ? Namque ego ( crede mihi ) si te quoque pontus haberet, te sequerer, coniunx, et me quoque pontus haberet. O utinam possim populos reparare paternis artibus atque animas formatae infundere terrae! Nunc genus in nobis restat mortale duobus ( sic visum superis ) hominumque exempla manemus.\" (urn:cts:latinLit:phi0959.phi006:1.351-1.366)\n",
      "\n",
      "Deucalion and Pyrrha: \"si precibus\" (urn:cts:latinLit:phi0959.phi006:1.377)\n",
      "\n",
      "Deucalion and Pyrrha: \"numina iustis victa remollescunt, si flectitur ira deorum, dic, Themi, qua generis damnum reparabile nostri arte sit, et mersis fer opem, mitissima, rebus.\" (urn:cts:latinLit:phi0959.phi006:1.377-1.380)\n",
      "\n",
      "Themis: \"Discedite templo et velate caput cinctasque resolvite vestes ossaque post tergum magnae iactate parentis.\" (urn:cts:latinLit:phi0959.phi006:1.381-1.383)\n",
      "\n",
      "Deucalion: \"aut fallax\" (urn:cts:latinLit:phi0959.phi006:1.391)\n",
      "\n",
      "Deucalion: \"est sollertia nobis, aut pia sunt nullumque nefas oracula suadent. Magna parens terra est, lapides in corpore terrae ossa reor dici ; iacere hos post terga iubemur.\" (urn:cts:latinLit:phi0959.phi006:1.391-1.394)\n",
      "\n",
      "Narrator:  Illa quidem nollet, sed te quoque, maxime Python, tum genuit, populisque novis, incognite serpens, terror eras: tantum spatii de monte tenebas.  (urn:cts:latinLit:phi0959.phi006:1.438-1.440)\n",
      "\n",
      "Apollo: \"quid\" (urn:cts:latinLit:phi0959.phi006:1.456)\n",
      "\n",
      "Apollo: \"tibi, lascive puer, cum fortibus armis ?\" (urn:cts:latinLit:phi0959.phi006:1.456)\n",
      "\n",
      "Apollo: \"ista decent umeros gestamina nostros, qui dare certa ferae, dare vulnera possumus hosti, qui modo pestifero tot iugera ventre prementem stravimus innumeris tumidum Pythona sagittis. Tu face nescio quos esto contentus amores inritare tua, nec laudes adsere nostras.\" (urn:cts:latinLit:phi0959.phi006:1.457-1.462)\n",
      "\n",
      "Cupid: \"figat tuus omnia, Phoebe, te meus arcus:\" (urn:cts:latinLit:phi0959.phi006:1.463-1.464)\n",
      "\n",
      "Cupid: \"quantoque animalia cedunt cuncta deo tanto minor est tua gloria nostra.\" (urn:cts:latinLit:phi0959.phi006:1.464-1.465)\n",
      "\n",
      "Peneus: \"generum mihi, filia, debes,\" (urn:cts:latinLit:phi0959.phi006:1.481)\n",
      "\n",
      "Peneus: \"debes mihi nata, nepotes:\" (urn:cts:latinLit:phi0959.phi006:1.482)\n",
      "\n",
      "Daphne: \"da mihi perpetua, genitor carissime,\" (urn:cts:latinLit:phi0959.phi006:1.486)\n",
      "\n",
      "Daphne: \"virginitate frui: dedit hoc pater ante Dianae.\" (urn:cts:latinLit:phi0959.phi006:1.487)\n",
      "\n",
      "Narrator:  te decor iste quod optas esse vetat. Votoque tuo tua forma repugnat:  (urn:cts:latinLit:phi0959.phi006:1.488-1.489)\n",
      "\n",
      "Apollo: \"quid, si comantur ?\" (urn:cts:latinLit:phi0959.phi006:1.498)\n",
      "\n",
      "Apollo: \"Nympha, precor, Penei, mane! Non insequor hostis: nympha, mane! sic agna lupum, sic cerva leonem, sic aquilam penna fugiunt trepidante columbae, hostes quaeque suos: amor est mihi causa sequendi. Me miserum! ne prona cadas indignave laedi crura notent sentes et sim tibi causa doloris. Aspera, qua properas, loca sunt. Moderatius, oro, curre fugamque inhibe ; moderatius insequar ipse. Cui placeas, inquire tamen. Non incola montis, non ego sum pastor, non hic armenta gregesque horridus observo. Nescis, temeraria, nescis quem fugias, ideoque fugis. Mihi Delphica tellus et Claros et Tenedos Patareaque regia servit, Iuppiter est genitor ; per me quod eritque fuitque estque patet ; per me concordant carmina nervis. Certa quidem nostra est, nostra tamen una sagitta certior, in vacuo quae vulnera pectore fecit. Inventum medicina meum est, opiferque per orbem dicor, et herbarum subiecta potentia nobis: ei mihi, quod nullis amor est sanabilis herbis nec prosunt domino, quae prosunt omnibus, artes.\" (urn:cts:latinLit:phi0959.phi006:1.504-1.524)\n",
      "\n",
      "Daphne: \"fer pater\" (urn:cts:latinLit:phi0959.phi006:1.545)\n",
      "\n",
      "Daphne: \"opem si flumina numen habetis. Qua nimium placui, mutando perde figuram!\" (urn:cts:latinLit:phi0959.phi006:1.545-1.546)\n",
      "\n",
      "Apollo: \"at quoniam coniunx mea non potes esse, arbor eris certe\" (urn:cts:latinLit:phi0959.phi006:1.556-1.557)\n",
      "\n",
      "Apollo: \"mea. Semper habebunt te coma, te citharae, te nostrae, laure, pharetrae: tu ducibus Latiis aderis, cum laeta triumphum vox canet et visent longas Capitolia pompas: postibus Augustis eadem fidissima custos ante fores stabis mediamque tuebere quercum, utque meum intonsis caput est iuvenale capillis, tu quoque perpetuos semper gere frondis honores.\" (urn:cts:latinLit:phi0959.phi006:1.557-1.564)\n",
      "\n",
      "Jupiter: \"o virgo Iove digna tuoque beatum nescio quem factura toro, pete\" (urn:cts:latinLit:phi0959.phi006:1.588-1.589)\n",
      "\n",
      "Jupiter: \"umbras altorum nemorum\" (urn:cts:latinLit:phi0959.phi006:1.589-1.590)\n",
      "\n",
      "Jupiter: \"dum calet et medio sol est altissimus orbe. Quodsi sola times latebras intrare ferarum, praeside tuta deo nemorum secreta subibis, nec de plebe deo, sed qui caelestia magna sceptra manu teneo, sed qui vaga fulmina mitto. Ne fuge me!\" (urn:cts:latinLit:phi0959.phi006:1.591-1.596)\n",
      "\n",
      "Juno: \"aut ego fallor, aut ego laedor\" (urn:cts:latinLit:phi0959.phi006:1.606-1.607)\n",
      "\n",
      "Inachus: \"Me miserum!\" (urn:cts:latinLit:phi0959.phi006:1.650)\n",
      "\n",
      "Inachus: \"me miserum!\" (urn:cts:latinLit:phi0959.phi006:1.652)\n",
      "\n",
      "Inachus: \"tune es quaesita per omnes nata, mihi terras ? tu non inventa reperta luctus eras levior. Retices nec mutua nostris dicta refers, alto tantum suspiria ducis pectore, quodque unum potes, ad mea verba remugis. At tibi ego ignarus thalamos taedasque parabam, spesque fuit generi mihi prima, secunda nepotum. De grege nunc tibi vir, nunc de grege natus habendus. Nec finire licet tantos mihi morte dolores, sed nocet esse deum, praeclusaque ianua leti aeternum nostros luctus extendit in aevum ?\" (urn:cts:latinLit:phi0959.phi006:1.652-1.662)\n",
      "\n",
      "Argus: \"at tu, quisquis es, hoc poteras cum me considere saxo,\" (urn:cts:latinLit:phi0959.phi006:1.677-1.678)\n",
      "\n",
      "Argus: \"neque enim pecori fecundior ullo herba loco est, aptamque vides pastoribus umbram.\" (urn:cts:latinLit:phi0959.phi006:1.679-1.680)\n",
      "\n",
      "Mercury: \"Arcadiae gelidis in montibus\" (urn:cts:latinLit:phi0959.phi006:1.688)\n",
      "\n",
      "Mercury: \"inter hamadryadas celeberrima Nonacrinas naias una fuit ; nymphae Syringa vocabant. Non semel et satyros eluserat illa sequentes et quoscumque deos umbrosaque silva feraxque rus habet. Ortygiam studiis ipsaque colebat virginitate deam. Ritu quoque cincta Dianae falleret et posset credi Latonia, si non corneus huic arcus, si non foret aureus illi. Sic quoque fallebat. Redeuntem colle Lycaeo Pan videt hanc pinuque caput praecinctus acuta talia verba refert\" (urn:cts:latinLit:phi0959.phi006:1.689-1.699)\n",
      "\n",
      "Pan: 'hoc mihi concilium cum te' (urn:cts:latinLit:phi0959.phi006:1.709)\n",
      "\n",
      "Pan: 'manebit!' (urn:cts:latinLit:phi0959.phi006:1.709)\n",
      "\n",
      "Narrator:  Arge, iaces, quodque in tot lumina lumen habebas, exstinctum est, centumque oculos nox occupat una.  (urn:cts:latinLit:phi0959.phi006:1.719-1.720)\n",
      "\n",
      "Narrator:  Ultimus inmenso restabas, Nile, labori.  (urn:cts:latinLit:phi0959.phi006:1.727)\n",
      "\n",
      "Jupiter: \"in\" (urn:cts:latinLit:phi0959.phi006:1.734)\n",
      "\n",
      "Jupiter: \"futurum pone metus\" (urn:cts:latinLit:phi0959.phi006:1.734-1.735)\n",
      "\n",
      "Jupiter: \"numquam tibi causa doloris haec erit:\" (urn:cts:latinLit:phi0959.phi006:1.735)\n",
      "\n",
      "Epaphus: \"matri\" (urn:cts:latinLit:phi0959.phi006:1.752)\n",
      "\n",
      "Epaphus: \"omnia demens credis et es tumidus genitoris imagine falsi.\" (urn:cts:latinLit:phi0959.phi006:1.752-1.753)\n",
      "\n",
      "Phaethon: \"quo\" (urn:cts:latinLit:phi0959.phi006:1.756)\n",
      "\n",
      "Phaethon: \"magis doleas genetrix,\" (urn:cts:latinLit:phi0959.phi006:1.756)\n",
      "\n",
      "Phaethon: \"ille ego liber, ille ferox tacui. Pudet haec opprobria nobis et dici potuisse et non potuisse refelli. At tu, si modo sum caelesti stirpe creatus, ede notam tanti generis meque adsere caelo.\" (urn:cts:latinLit:phi0959.phi006:1.756)\n",
      "\n",
      "Clymene: \"per iubar hoc\" (urn:cts:latinLit:phi0959.phi006:1.767)\n",
      "\n",
      "Clymene: \"radiis insigne coruscis, nate, tibi iuro, quod nos auditque videtque, hoc te, quem spectas, hoc te, qui temperat orbem, Sole satum. Si ficta loquor, neget ipse videndum se mihi, sitque oculis lux ista novissima nostris. Nec longus patrios labor est tibi nosse penates: unde oritur, domus est terrae contermina nostrae. Si modo fert animus, gradere et scitabere ab ipso.\" (urn:cts:latinLit:phi0959.phi006:1.767-1.774)\n",
      "\n"
     ]
    }
   ],
   "source": [
    "for said in root.findall('said'):\n",
    "    \n",
    "    #initialize empty string\n",
    "    whole_speech = \"\"\n",
    "\n",
    "    #get all token elements contained in said tags\n",
    "    for i in said.findall('token'):\n",
    "\n",
    "        #concatenate strings into a continuous speech\n",
    "        whole_speech += i.text + \" \"\n",
    "\n",
    "        #assign speaker, speech, and citation to variable\n",
    "        speech = str(said.get('speaker') + \":  \" + whole_speech + \" (\" + said.get('cite') + \")\")\n",
    "\n",
    "        #declare dict and get rid of extraneous white space near punctuation and enclitic que and ve\n",
    "        replacements = {\n",
    "            '\" ': '\"',\n",
    "            ' \"': '\"',\n",
    "            \"' \": \"'\",\n",
    "            \" '\": \"'\",\n",
    "            \" que \": \"que \",\n",
    "            \" ve \": \"ve \",\n",
    "            \" ,\": \",\",\n",
    "            \" .\": \".\",\n",
    "            \" :\": \":\",\n",
    "            \" !\": \"!\"\n",
    "        }\n",
    "\n",
    "        for k,v in replacements.items():\n",
    "            speech = speech.replace(k, v)\n",
    "\n",
    "    #print speaker, full speech, and citation\n",
    "    print(speech + '\\n')    "
   ]
  },
  {
   "cell_type": "code",
   "execution_count": null,
   "metadata": {
    "collapsed": true
   },
   "outputs": [],
   "source": []
  },
  {
   "cell_type": "code",
   "execution_count": null,
   "metadata": {
    "collapsed": true
   },
   "outputs": [],
   "source": []
  },
  {
   "cell_type": "code",
   "execution_count": null,
   "metadata": {
    "collapsed": true
   },
   "outputs": [],
   "source": []
  },
  {
   "cell_type": "code",
   "execution_count": null,
   "metadata": {
    "collapsed": true
   },
   "outputs": [],
   "source": []
  },
  {
   "cell_type": "code",
   "execution_count": null,
   "metadata": {
    "collapsed": true
   },
   "outputs": [],
   "source": []
  },
  {
   "cell_type": "code",
   "execution_count": null,
   "metadata": {
    "collapsed": true
   },
   "outputs": [],
   "source": []
  }
 ],
 "metadata": {
  "kernelspec": {
   "display_name": "Python 3",
   "language": "python",
   "name": "python3"
  },
  "language_info": {
   "codemirror_mode": {
    "name": "ipython",
    "version": 3
   },
   "file_extension": ".py",
   "mimetype": "text/x-python",
   "name": "python",
   "nbconvert_exporter": "python",
   "pygments_lexer": "ipython3",
   "version": "3.6.3"
  }
 },
 "nbformat": 4,
 "nbformat_minor": 2
}
